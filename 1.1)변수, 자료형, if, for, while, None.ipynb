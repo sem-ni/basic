{
 "cells": [
  {
   "cell_type": "markdown",
   "metadata": {},
   "source": [
    "### 초보자를 위한 파이썬 200제"
   ]
  },
  {
   "cell_type": "code",
   "execution_count": 24,
   "metadata": {},
   "outputs": [],
   "source": [
    "## 변수명 만들기\n",
    "_myname='semin'\n",
    "my_name = '정세민'\n",
    "Myname2='seminjung'\n",
    "counter=1\n",
    "Counter=2\n",
    "# 변수명의 첫번째 문자는 언더스코어(_)또는 영문자로 시작\n",
    "# 두번째 문자는 알파벳, 숫자, 밑줄문자\n",
    "# 파이썬 함수는 변수명으로 사용불가(제어문: if, elif, while, for, 함수정의: def, class 등)'''"
   ]
  },
  {
   "cell_type": "code",
   "execution_count": 39,
   "metadata": {},
   "outputs": [
    {
     "data": {
      "text/plain": [
       "['False',\n",
       " 'None',\n",
       " 'True',\n",
       " 'and',\n",
       " 'as',\n",
       " 'assert',\n",
       " 'async',\n",
       " 'await',\n",
       " 'break',\n",
       " 'class',\n",
       " 'continue',\n",
       " 'def',\n",
       " 'del',\n",
       " 'elif',\n",
       " 'else',\n",
       " 'except',\n",
       " 'finally',\n",
       " 'for',\n",
       " 'from',\n",
       " 'global',\n",
       " 'if',\n",
       " 'import',\n",
       " 'in',\n",
       " 'is',\n",
       " 'lambda',\n",
       " 'nonlocal',\n",
       " 'not',\n",
       " 'or',\n",
       " 'pass',\n",
       " 'raise',\n",
       " 'return',\n",
       " 'try',\n",
       " 'while',\n",
       " 'with',\n",
       " 'yield']"
      ]
     },
     "execution_count": 39,
     "metadata": {},
     "output_type": "execute_result"
    }
   ],
   "source": [
    "import keyword\n",
    "keyword.kwlist\n",
    "# 파이썬 예약어 확인"
   ]
  },
  {
   "cell_type": "code",
   "execution_count": 19,
   "metadata": {
    "scrolled": true
   },
   "outputs": [
    {
     "ename": "SyntaxError",
     "evalue": "invalid syntax (<ipython-input-19-2c431c80816c>, line 3)",
     "output_type": "error",
     "traceback": [
      "\u001b[1;36m  File \u001b[1;32m\"<ipython-input-19-2c431c80816c>\"\u001b[1;36m, line \u001b[1;32m3\u001b[0m\n\u001b[1;33m    Trace back(most recent call last):\u001b[0m\n\u001b[1;37m             ^\u001b[0m\n\u001b[1;31mSyntaxError\u001b[0m\u001b[1;31m:\u001b[0m invalid syntax\n"
     ]
    }
   ],
   "source": [
    "abs=1\n",
    "abs(-3)\n",
    "Trace back(most recent call last):\n",
    "    File \"pyshell#1\", line 1, in<module>\n",
    "    abs(-3)\n",
    "# 변수명으로 abs를 사용하게 되면 절대값을 리턴하는 함수인 abs()는 사용불가\n",
    "# 오류는 abs를 함수처럼 호출하여 발생되는 오류"
   ]
  },
  {
   "cell_type": "code",
   "execution_count": 9,
   "metadata": {},
   "outputs": [
    {
     "data": {
      "text/plain": [
       "3"
      ]
     },
     "execution_count": 9,
     "metadata": {},
     "output_type": "execute_result"
    }
   ],
   "source": [
    "##변수에 값 대입\n",
    "number=1 #number는 정수형자료\n",
    "number+2"
   ]
  },
  {
   "cell_type": "code",
   "execution_count": 10,
   "metadata": {},
   "outputs": [
    {
     "data": {
      "text/plain": [
       "'one'"
      ]
     },
     "execution_count": 10,
     "metadata": {},
     "output_type": "execute_result"
    }
   ],
   "source": [
    "number='one' #문자열 자료\n",
    "number"
   ]
  },
  {
   "cell_type": "code",
   "execution_count": 7,
   "metadata": {},
   "outputs": [
    {
     "name": "stdout",
     "output_type": "stream",
     "text": [
      "1\n",
      "3.14\n",
      "I love python\n",
      "반갑습니다\n",
      "[1, 2, 3]\n",
      "2\n",
      "(1, 2, 3)\n",
      "{0: 'False', 1: 'True'}\n"
     ]
    }
   ],
   "source": [
    "##자료형 개념 및 자료형 출력 개념\n",
    "int_data = 1 # 정수선언\n",
    "float_data = 3.14 # 실수 선언\n",
    "complex_data =1+5j # 복수수 선언\n",
    "str_data1='I love python' #문자열 선언(영문)\n",
    "str_data2=\"반갑습니다\" #문자열 선언(한글)\n",
    "list_data=[1,2,3] #리스트 선언(임의 객체를 순서있게 나열)\n",
    "tuple_data=(1,2,3) #튜플 선언(리스트와 비슷하지만 요소값을 변경할 수 없다는 점이 다름)\n",
    "dict_data={0:'False', 1:'True'} #사전 선언(순서가 없는 자료형)\n",
    "\n",
    "print(int_data)\n",
    "print(float_data)\n",
    "print(str_data1)\n",
    "print(str_data2)\n",
    "print(list_data)\n",
    "print(list_data[1])\n",
    "print(tuple_data)\n",
    "print(dict_data)"
   ]
  },
  {
   "cell_type": "code",
   "execution_count": 13,
   "metadata": {},
   "outputs": [
    {
     "name": "stdout",
     "output_type": "stream",
     "text": [
      "##\n"
     ]
    }
   ],
   "source": [
    "print('#', end='')\n",
    "print('#')\n",
    "# print()는 기본적으로 출력되는 값 뒤에 항상 '|n'을 추가한다. \n",
    "# 줄바꿈 문자를 추가하지 않으려면 end=''을 쓰면됨"
   ]
  },
  {
   "cell_type": "code",
   "execution_count": 14,
   "metadata": {},
   "outputs": [
    {
     "name": "stdout",
     "output_type": "stream",
     "text": [
      "a가 listdata에 있습니다.\n",
      "['a', 'b', 'c']\n",
      "listdata에 있습니다.\n"
     ]
    }
   ],
   "source": [
    "##들여쓰기 개념\n",
    "listdata = ['a', 'b', 'c']\n",
    "if 'a' in listdata:\n",
    "    print('a가 listdata에 있습니다.')\n",
    "    print(listdata)\n",
    "else:\n",
    "    print('a가 listdata에 존재하지 않습니다.')\n",
    "# 파이썬은 다른 언어와 달리 if, for, while등 제어문이나 함수 및 클래스에서 실행 코드 부분을 구분해주는 {}가 없고 들여쓰기로 괄호를 대신\n",
    "# 제어문, 함수이름, 클래스 이름 뒤에 콜론(;) 으로 끝을 표시\n",
    "\n",
    "if 'a' in listdata:print('a가 listdata에 있습니다.') #가능"
   ]
  },
  {
   "cell_type": "code",
   "execution_count": 15,
   "metadata": {},
   "outputs": [
    {
     "ename": "IndentationError",
     "evalue": "unexpected indent (<ipython-input-15-5cd6518714f7>, line 4)",
     "output_type": "error",
     "traceback": [
      "\u001b[1;36m  File \u001b[1;32m\"<ipython-input-15-5cd6518714f7>\"\u001b[1;36m, line \u001b[1;32m4\u001b[0m\n\u001b[1;33m    print(listdata) #들여쓰기 간격이 동일해야 오류 안남\u001b[0m\n\u001b[1;37m    ^\u001b[0m\n\u001b[1;31mIndentationError\u001b[0m\u001b[1;31m:\u001b[0m unexpected indent\n"
     ]
    }
   ],
   "source": [
    "listdata = ['a', 'b', 'c']\n",
    "if 'a' in listdata:\n",
    "    print('a가 listdata에 있습니다.')\n",
    "        print(listdata) #들여쓰기 간격이 동일해야 오류 안남\n",
    "else:\n",
    "    print('a가 listdata에 존재하지 않습니다.')"
   ]
  },
  {
   "cell_type": "code",
   "execution_count": 20,
   "metadata": {},
   "outputs": [
    {
     "name": "stdout",
     "output_type": "stream",
     "text": [
      "x가 y보다 작습니다. \n",
      "x가 y보다 작습니다.\n"
     ]
    }
   ],
   "source": [
    "##If 문 개념\n",
    "x=1\n",
    "y=2\n",
    "if x>=y:\n",
    "    print('x가 y보다 크거나 같습니다.')\n",
    "else:\n",
    "    print('x가 y보다 작습니다. ')\n",
    "# if 문은 조건문이 참인지 거짓인지 판단할때 사용하는 조건문\n",
    "# if 조건:\n",
    "#     실행코드1\n",
    "# else:\n",
    "#     실행코드2\n",
    "\n",
    "x=1\n",
    "y=2\n",
    "if x>y:\n",
    "    print('x가 y보다 큽니다.')\n",
    "elif x<y:\n",
    "    print('x가 y보다 작습니다.')\n",
    "else:\n",
    "    print('x와 y가 같습니다.')\n",
    "# if 조건:\n",
    "#     실행코드1\n",
    "# elif:\n",
    "#     실행코드2\n",
    "# else:\n",
    "#     실행코드3\n"
   ]
  },
  {
   "cell_type": "code",
   "execution_count": 27,
   "metadata": {},
   "outputs": [
    {
     "name": "stdout",
     "output_type": "stream",
     "text": [
      "1\n",
      "2\n",
      "3\n",
      "4\n",
      "5\n"
     ]
    }
   ],
   "source": [
    "##for문 개념\n",
    "# 범위가 지정된 자료나 반복 가능한 객체를 이용해 반복문을 수행하는 것\n",
    "scope=[1,2,3,4,5]\n",
    "for x in scope: # for 변수 in 범위\n",
    "    print(x) # 반복적으로 실행할 코드\n",
    "    \n",
    "\n",
    "\n",
    "# for문의 범위로 사용되는 것은 시퀀스 자료형, 반복 가능한 자료, 문자열, 리스트, 튜플, 사전, range(), 그외 반복가능한 개체\n"
   ]
  },
  {
   "cell_type": "code",
   "execution_count": 30,
   "metadata": {},
   "outputs": [
    {
     "name": "stdout",
     "output_type": "stream",
     "text": [
      "a\n",
      "b\n",
      "c\n",
      "d\n",
      "e\n",
      "f\n"
     ]
    }
   ],
   "source": [
    "#문자열 범위\n",
    "str='abcdef'\n",
    "for c in str:\n",
    "    print(c)"
   ]
  },
  {
   "cell_type": "code",
   "execution_count": 31,
   "metadata": {},
   "outputs": [
    {
     "name": "stdout",
     "output_type": "stream",
     "text": [
      "1\n",
      "2\n",
      "3\n",
      "4\n",
      "5\n"
     ]
    }
   ],
   "source": [
    "#리스트 범위\n",
    "list=[1,2,3,4,5]\n",
    "for c in list:\n",
    "    print(c)"
   ]
  },
  {
   "cell_type": "code",
   "execution_count": 35,
   "metadata": {},
   "outputs": [
    {
     "name": "stdout",
     "output_type": "stream",
     "text": [
      "a\n",
      "b\n",
      "c\n"
     ]
    }
   ],
   "source": [
    "#사전을 범위\n",
    "ascii_codes = {'a':97, 'b':98, 'c':99}\n",
    "for c in ascii_codes:\n",
    "    print(c)"
   ]
  },
  {
   "cell_type": "code",
   "execution_count": 37,
   "metadata": {},
   "outputs": [
    {
     "name": "stdout",
     "output_type": "stream",
     "text": [
      "0\n",
      "1\n",
      "2\n",
      "3\n",
      "4\n",
      "5\n",
      "6\n",
      "7\n",
      "8\n",
      "9\n"
     ]
    }
   ],
   "source": [
    "#range()함수를 범위\n",
    "for c in range(10):\n",
    "    print(c)"
   ]
  },
  {
   "cell_type": "code",
   "execution_count": 85,
   "metadata": {},
   "outputs": [
    {
     "name": "stdout",
     "output_type": "stream",
     "text": [
      "1\n",
      "2\n",
      "3\n"
     ]
    }
   ],
   "source": [
    "#✔\n",
    "scope=[1,2,3,4,5]\n",
    "for x in scope: #for 변수 in 범위:\n",
    "    print(x) #1,2,3 모두 여기서 출력, 4출력했다가 if를 거치게 됨\n",
    "    if x <3:\n",
    "        continue #다음 반복문 수행\n",
    "    else:\n",
    "        break #for 반복문 탈출\n"
   ]
  },
  {
   "cell_type": "code",
   "execution_count": 83,
   "metadata": {},
   "outputs": [
    {
     "name": "stdout",
     "output_type": "stream",
     "text": [
      "1\n",
      "2\n",
      "3\n"
     ]
    }
   ],
   "source": [
    "#✔\n",
    "scope=[1,2,3,4,5]\n",
    "for x in scope:\n",
    "    print(x) #1,2,3 모두 출력, 4는 if를 거침\n",
    "    if x >= 3:\n",
    "        break\n",
    "# continue없이 break만으로 위와 동일로직 작성 가능\n",
    "# 1부터 5까지 정수에 대해 코드를 반복, 출력 후 3보다 작으면 그다음 숫자를 출력\n",
    "# 3보다 크거나 같으면 for반복문을 탈출 및 종료"
   ]
  },
  {
   "cell_type": "code",
   "execution_count": 90,
   "metadata": {},
   "outputs": [
    {
     "name": "stdout",
     "output_type": "stream",
     "text": [
      "1\n"
     ]
    }
   ],
   "source": [
    "scope=[1,2,3]\n",
    "for x in scope: \n",
    "    print(x) #1,2,3다음 break까지. else는 갈필요가 없음\n",
    "    break #주석처리할경우 1,2,3 else까지.\n",
    "else:\n",
    "    print('Perfect')\n",
    "    \n",
    "# else로의 진입은 for반복문에서 break등에 의해 중간에 중단됨없이 정상적으로 실행이 다 되었을 때\n",
    "# break에 주석처리 할경우 결과 달라짐"
   ]
  },
  {
   "cell_type": "code",
   "execution_count": 101,
   "metadata": {},
   "outputs": [
    {
     "name": "stdout",
     "output_type": "stream",
     "text": [
      "3\n",
      "4\n",
      "5\n",
      "6\n",
      "7\n",
      "8\n"
     ]
    }
   ],
   "source": [
    "##while문 개념\n",
    "#특정 조건을 만족할때까지 반복 수행하는 무한 루프 반복문\n",
    "#✔\n",
    "x=0\n",
    "while x <10:\n",
    "    x=x+1 #0,1 continue , 2,3,4,5,6,7은 출력 \n",
    "    if x <3: \n",
    "        continue #while구문 처음으로 이동하여 반복문 계속\n",
    "    print(x)\n",
    "    if x > 7: #8, 9 탈출못함\n",
    "        break # while 구문 탈출\n",
    "\n",
    "# while 다음에 놓인 조건이 거짓일 때까지 while반복문 계속 실행\n",
    "# 반복문 내에 continue키워드를 만나면 while반복문 처음으로 돌아와 반복문 수행\n",
    "# 반복문 내에 break 키워드를 만나면 while반복문 탈출"
   ]
  },
  {
   "cell_type": "code",
   "execution_count": 104,
   "metadata": {},
   "outputs": [
    {
     "name": "stdout",
     "output_type": "stream",
     "text": [
      "447\n",
      "100128\n"
     ]
    }
   ],
   "source": [
    "x=1\n",
    "total=0\n",
    "while 1:\n",
    "    total = total + x\n",
    "    if total > 100000:\n",
    "        print(x)\n",
    "        print(total)\n",
    "        break\n",
    "    x=x+1\n",
    "# 무한 루프 돌면서 변수 total값에 x를 더하고 total값을 갱신\n",
    "# total값이 10만보다 커지면 x값과 total값을 출력 후 while반복문 탈출\n",
    "# total값이 10만보다 작으면 x를 1증가시키고 while반복문을 계속 실행\n",
    "# 결과 ; x 는 447, total은 100128"
   ]
  },
  {
   "cell_type": "code",
   "execution_count": 109,
   "metadata": {},
   "outputs": [],
   "source": [
    "##None개념\n",
    "#Types.NoneType의 유일값, 값이 존재하지 않는 변수에 대입하여 이 변수에 아무런 값이 없다는 것을 나타내기 위해 주로 활용\n",
    "val=None\n",
    "condition=1\n",
    "if condition ==1:\n",
    "    val=[1,2,3]\n",
    "else:\n",
    "    val='I love Python'\n",
    "#대입할 자료형을 결정하지 않은 상태로 선언할때 None을 대입하거나 함수에서 아무값도 리턴하지 않고 끝낼 때 사용\n",
    "#함수 로직에서 오류를 발견할 수 있음\n",
    "#condition의 값에 따라 val에 리스트를 대입, condition의 값이 1이 아니면 변수 val에 문자열 i love python을 대입\n",
    "#'=='은 값이 동일하다, '!='은 값이 동일하지 않다."
   ]
  },
  {
   "cell_type": "code",
   "execution_count": null,
   "metadata": {},
   "outputs": [],
   "source": []
  }
 ],
 "metadata": {
  "kernelspec": {
   "display_name": "Python 3",
   "language": "python",
   "name": "python3"
  },
  "language_info": {
   "codemirror_mode": {
    "name": "ipython",
    "version": 3
   },
   "file_extension": ".py",
   "mimetype": "text/x-python",
   "name": "python",
   "nbconvert_exporter": "python",
   "pygments_lexer": "ipython3",
   "version": "3.7.6"
  }
 },
 "nbformat": 4,
 "nbformat_minor": 4
}
