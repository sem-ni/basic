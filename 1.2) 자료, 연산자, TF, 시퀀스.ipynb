{
 "cells": [
  {
   "cell_type": "code",
   "execution_count": 2,
   "metadata": {},
   "outputs": [
    {
     "name": "stdout",
     "output_type": "stream",
     "text": [
      "10\n",
      "2\n",
      "8\n",
      "22\n",
      "1234567890123456789\n"
     ]
    }
   ],
   "source": [
    "##정수형 자료\n",
    "int_data=10 \n",
    "bin_data=0b10 #파이썬 3에서 2진수는 0b\n",
    "oct_data=0o10 #8진수는 0o\n",
    "hex_data=0x16 #16진수는 0x\n",
    "long_data=1234567890123456789\n",
    "\n",
    "print(int_data)\n",
    "print(bin_data)\n",
    "print(oct_data)\n",
    "print(hex_data)\n",
    "print(long_data)\n",
    "#정수형 상수의 범위: -2147483647~2147483647이지만 파아썬의 정수상수 최소최대값은 존재하지 않음\n",
    "#메모리가 허용하는 범위에서 지원가능한 수를 사용"
   ]
  },
  {
   "cell_type": "code",
   "execution_count": 4,
   "metadata": {},
   "outputs": [
    {
     "name": "stdout",
     "output_type": "stream",
     "text": [
      "1.0\n",
      "3.14\n",
      "1560.0\n",
      "-7e-05\n"
     ]
    }
   ],
   "source": [
    "##실수형 자료\n",
    "f1=1.0\n",
    "f2=3.14\n",
    "f3=1.56e3 #e는 10의 거듭제곱\n",
    "f4=-0.7e-4 #10의 마이너스 4제곱, -0.7x10(-4) = 7x10(-5)\n",
    "\n",
    "print(f1)\n",
    "print(f2)\n",
    "print(f3)\n",
    "print(f4)"
   ]
  },
  {
   "cell_type": "code",
   "execution_count": 8,
   "metadata": {},
   "outputs": [
    {
     "name": "stdout",
     "output_type": "stream",
     "text": [
      "6.0\n",
      "8.0\n",
      "2.0\n",
      "2.0\n"
     ]
    }
   ],
   "source": [
    "i=2; f=4.0\n",
    "print(f+i)\n",
    "print(f*i)\n",
    "print(f/i)\n",
    "print(4/2)"
   ]
  },
  {
   "cell_type": "code",
   "execution_count": 4,
   "metadata": {},
   "outputs": [
    {
     "name": "stdout",
     "output_type": "stream",
     "text": [
      "1.0\n",
      "7.0\n",
      "(2-3j)\n"
     ]
    }
   ],
   "source": [
    "##복소수형 자료\n",
    "c1=1+7j\n",
    "print(c1.real) #실수부만 취하려면 real이용 \n",
    "print(c1.imag) #복소수형 자료에서 허수부만 취할 때\n",
    "c2=complex(2,-3) #복소수형 상수를 구성\n",
    "print(c2)"
   ]
  },
  {
   "cell_type": "code",
   "execution_count": 14,
   "metadata": {},
   "outputs": [
    {
     "name": "stdout",
     "output_type": "stream",
     "text": [
      "a와 b를 더한 값은 3입니다.\n"
     ]
    }
   ],
   "source": [
    "##대입 연산자\n",
    "a=1\n",
    "b=2\n",
    "ret=a+b\n",
    "print('a와 b를 더한 값은 ', end='')\n",
    "print(ret, end='')\n",
    "print('입니다.')"
   ]
  },
  {
   "cell_type": "code",
   "execution_count": 16,
   "metadata": {},
   "outputs": [
    {
     "name": "stdout",
     "output_type": "stream",
     "text": [
      "6\n",
      "-2\n",
      "8\n",
      "0.5\n",
      "16\n",
      "6.0\n",
      "-12\n",
      "32\n"
     ]
    }
   ],
   "source": [
    "##사칙 연산자\n",
    "a=2\n",
    "b=4\n",
    "ret1=a+b\n",
    "ret2=a-b\n",
    "ret3=a*b\n",
    "ret4=a/b\n",
    "ret5=a**b #a의 거듭제곱\n",
    "ret6=a+a+b/a \n",
    "ret7=(a+b)*(a-b)\n",
    "ret8=a*b**a\n",
    "\n",
    "print(ret1)\n",
    "print(ret2)\n",
    "print(ret3)\n",
    "print(ret4)\n",
    "print(ret5)\n",
    "print(ret6)\n",
    "print(ret7)\n",
    "print(ret8)"
   ]
  },
  {
   "cell_type": "code",
   "execution_count": 18,
   "metadata": {},
   "outputs": [
    {
     "name": "stdout",
     "output_type": "stream",
     "text": [
      "-2.0\n"
     ]
    }
   ],
   "source": [
    "##연산자 축약\n",
    "a=0\n",
    "a+=1 #a=a+1, a값은1\n",
    "a-=5 #a=a-5, a값은 -4\n",
    "a*=2 #a=a+2, a값은 -8\n",
    "a/=4 #a=a/4, a값은 -2.0\n",
    "\n",
    "print(a)"
   ]
  },
  {
   "cell_type": "code",
   "execution_count": 20,
   "metadata": {},
   "outputs": [
    {
     "name": "stdout",
     "output_type": "stream",
     "text": [
      "True\n",
      "True\n"
     ]
    }
   ],
   "source": [
    "##True와 False\n",
    "a=True #파이썬에서 1의 값을 가짐\n",
    "b=False #파이썬에서 0의 값을 가짐\n",
    "print(a==1) #값이 동일하다\n",
    "print(b!=0) #값이 동일하지 않다\n",
    "\n",
    "# while True:\n",
    "#     (무한 반복 실행 코드)\n",
    "#     ...\n",
    "#     if 조건 == True: #조건이 만족하면 무한루프를 탈출\n",
    "#         break"
   ]
  },
  {
   "cell_type": "code",
   "execution_count": 21,
   "metadata": {},
   "outputs": [
    {
     "name": "stdout",
     "output_type": "stream",
     "text": [
      "False\n",
      "True\n",
      "False\n",
      "True\n",
      "True\n"
     ]
    }
   ],
   "source": [
    "##관계 연산자 \n",
    "x=1;y=2\n",
    "str1='abc';str2='python'\n",
    "print(x==y) #F 출력\n",
    "print(x!=y) #T 출력\n",
    "print(str1==str2) #F 출력\n",
    "print(str2=='python') #T 출력\n",
    "print(str1<str2) #T 출력\n",
    "\n",
    "# A==B A와 B가 같으면 참\n",
    "# A!=B A와 B가 다르면 참\n",
    "# A<B A가 B보다 작으면 참\n",
    "# A<=B A가 B보다 작거나 같으면 참\n",
    "# A>B A가 B보다 크면 참\n",
    "# A>=B A가 B보다 크거나 같으면 참"
   ]
  },
  {
   "cell_type": "code",
   "execution_count": 23,
   "metadata": {},
   "outputs": [
    {
     "name": "stdout",
     "output_type": "stream",
     "text": [
      "False\n",
      "True\n",
      "True\n",
      "False\n",
      "False\n",
      "True\n"
     ]
    }
   ],
   "source": [
    "##논리 연산자(and, or, not)\n",
    "bool1=True;bool2=False;bool3=True;bool4=False\n",
    "print(bool1 and bool2)\n",
    "print(bool1 and bool3)\n",
    "print(bool2 or bool3)\n",
    "print(bool2 or bool4)\n",
    "print(not bool1)\n",
    "print(not bool2)"
   ]
  },
  {
   "cell_type": "code",
   "execution_count": 29,
   "metadata": {},
   "outputs": [
    {
     "name": "stdout",
     "output_type": "stream",
     "text": [
      "0x60\n",
      "0x63\n",
      "0x3\n",
      "-0x62\n",
      "0x30\n",
      "0x184\n"
     ]
    }
   ],
   "source": [
    "##비트 연산자(&,|,~,^,>>,<<)\n",
    "bit1=0x61 #16진수 61은 2진수로 0110 0001, \n",
    "bit2=0x62 #16진수 62은 2진수로 0110 0010, \n",
    "print(hex(bit1 & bit2)) #and 연산\n",
    "print(hex(bit1 | bit2)) #or 연산\n",
    "print(hex(bit1 ^ bit2)) #배타적 논리합 xor 연산을 수행함\n",
    "print(hex(~bit1))\n",
    "print(hex(bit1 >> 1))\n",
    "print(hex(bit1 << 2))\n",
    "\n",
    "# ~A A의 비트를 반전시킴, 즉 A의 1보수를 만듦\n",
    "# A>>n A의 모든 비트를 n만큼 오른쪽으로 시프트 시킴\n",
    "# A<<n A의 모든 비트를 n만큼 왼쪽으로 시프트 시킴"
   ]
  },
  {
   "cell_type": "code",
   "execution_count": 26,
   "metadata": {},
   "outputs": [],
   "source": [
    "##시퀀스\n",
    "#시퀀스 자료형에는 문자열, 리스트, 튜플이 있음\n",
    "strdata='abcde' \n",
    "listdata=[1,[2,3],'안녕'] \n",
    "tupledata=(100,200,300)\n",
    "\n",
    "# 인덱싱 인덱스를 통해 해당 값이 접근 가능, 인덱스는 0부터 시작\n",
    "# 슬라이싱 특정 구간의 값을 취할 수 있음, 구간은 시작 인덱스와 끝 인덱스로 정의\n",
    "# 연결 '+' 연산자를 이용해 두 시퀀스 자료를 연결하여 새로운 시퀀스 자료로 생성\n",
    "# 반복 '*' 연산자를 이용해 시퀀스 자료를 여러번 반복해 새로운 시퀀스 자료로 생성\n",
    "# 멤버체크 'in'키워드를 사용하여 특정 값이 시퀀스 자료의 요소로 속해 있는지 확인가능\n",
    "# 크기정보 len() 을 이용해 시퀀스 자료의 크기를 알 수 있음"
   ]
  },
  {
   "cell_type": "code",
   "execution_count": 27,
   "metadata": {},
   "outputs": [
    {
     "name": "stdout",
     "output_type": "stream",
     "text": [
      "i\n",
      "y\n",
      "T\n",
      "!\n",
      "3\n"
     ]
    }
   ],
   "source": [
    "##시퀀스 인덱싱\n",
    "#시퀀스 자료형에서 인덱스를 통해 해당하는 값을 얻는 방법\n",
    "strdata='Time is money!!'\n",
    "listdata=[1,2,[1,2,3]]\n",
    "print(strdata[5])\n",
    "print(strdata[-2])\n",
    "print(strdata[0])\n",
    "print(strdata[-1])\n",
    "print(listdata[2][-1])\n",
    "\n",
    "#strdata는 T부터 0, 끝의 !부터 -1"
   ]
  },
  {
   "cell_type": "code",
   "execution_count": 28,
   "metadata": {},
   "outputs": [
    {
     "name": "stdout",
     "output_type": "stream",
     "text": [
      "ime \n",
      "Time is\n",
      "oney!!\n",
      "Time is mone\n",
      "y!!\n",
      "Time is money!!\n",
      "Tm smny!\n"
     ]
    }
   ],
   "source": [
    "##시퀀스 슬라이싱\n",
    "strdata='Time is money!!'#[m:n]\n",
    "print(strdata[1:5]) #m이상 n미만\n",
    "print(strdata[:7]) #처음부터 n미만\n",
    "print(strdata[9:]) #m부터 끝까지\n",
    "print(strdata[:-3]) #처음부터 끝에서 n번째까지\n",
    "print(strdata[-3:]) #끝부터 끝에서 m번째까지\n",
    "print(strdata[:])\n",
    "print(strdata[::2])\n",
    "#[시작인덱스:끝인덱스:스텝]\n",
    "#시작인덱스<=[시작인덱스:끝인덱스]<끝 인덱스\n",
    "#시작인덱스=슬라이싱 범위의 시작\n",
    "#끝인덱스=슬라이싱 범위의 끝\n",
    "#스텝=자료를 취하는 간격(생략가능defalt값1)"
   ]
  },
  {
   "cell_type": "code",
   "execution_count": 35,
   "metadata": {},
   "outputs": [
    {
     "name": "stdout",
     "output_type": "stream",
     "text": [
      "I love python\n",
      "I love you\n",
      "[1, 2, 3, 4, 5, 6]\n"
     ]
    }
   ],
   "source": [
    "##시퀀스 자료 연결\n",
    "strdata1='I love ';strdata2='python';strdata3='you'\n",
    "listdata1=[1,2,3];listdata2=[4,5,6]\n",
    "print(strdata1+strdata2)\n",
    "print(strdata1+strdata3)\n",
    "print(listdata1+listdata2)"
   ]
  },
  {
   "cell_type": "code",
   "execution_count": 38,
   "metadata": {},
   "outputs": [
    {
     "name": "stdout",
     "output_type": "stream",
     "text": [
      "빅뱅이 부르는 뱅~뱅~뱅~빵야빵야빵야\n"
     ]
    }
   ],
   "source": [
    "##시퀀스 반복\n",
    "artist='빅뱅'\n",
    "sing='뱅~'\n",
    "sing2='빵야'\n",
    "dispdata=artist+'이 부르는 '+sing*3+sing2*3\n",
    "print(dispdata)"
   ]
  },
  {
   "cell_type": "code",
   "execution_count": 39,
   "metadata": {},
   "outputs": [
    {
     "name": "stdout",
     "output_type": "stream",
     "text": [
      "13\n",
      "13\n",
      "5\n",
      "13\n"
     ]
    }
   ],
   "source": [
    "##시퀀스 크기 len\n",
    "strdata1='I love python'\n",
    "strdata2='나는 파이썬을 사랑합니다'\n",
    "listdata=['a','b','c',strdata1, strdata2]\n",
    "print(len(strdata1))\n",
    "print(len(strdata2))\n",
    "print(len(listdata))\n",
    "print(len(listdata[3]))"
   ]
  },
  {
   "cell_type": "code",
   "execution_count": 40,
   "metadata": {},
   "outputs": [
    {
     "name": "stdout",
     "output_type": "stream",
     "text": [
      "3\n",
      "True\n",
      "True\n",
      "False\n"
     ]
    }
   ],
   "source": [
    "##시퀀스 멤버크기\n",
    "listdata=[1,2,3,4]\n",
    "ret1=5 in listdata\n",
    "ret2=4 in listdata\n",
    "print(ret);print(ret2)\n",
    "strdata='abcde'\n",
    "ret3='c'in strdata\n",
    "ret4='1'in strdata\n",
    "print(ret3);print(ret4)"
   ]
  },
  {
   "cell_type": "code",
   "execution_count": null,
   "metadata": {},
   "outputs": [],
   "source": []
  }
 ],
 "metadata": {
  "kernelspec": {
   "display_name": "Python 3",
   "language": "python",
   "name": "python3"
  },
  "language_info": {
   "codemirror_mode": {
    "name": "ipython",
    "version": 3
   },
   "file_extension": ".py",
   "mimetype": "text/x-python",
   "name": "python",
   "nbconvert_exporter": "python",
   "pygments_lexer": "ipython3",
   "version": "3.7.6"
  }
 },
 "nbformat": 4,
 "nbformat_minor": 4
}
