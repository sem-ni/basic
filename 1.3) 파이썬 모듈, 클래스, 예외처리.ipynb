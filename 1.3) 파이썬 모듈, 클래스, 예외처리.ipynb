{
 "cells": [
  {
   "cell_type": "code",
   "execution_count": 2,
   "metadata": {},
   "outputs": [
    {
     "name": "stdout",
     "output_type": "stream",
     "text": [
      "5초간 프로그램을 정지합니다.\n",
      "5초가 지나갔습니다.\n"
     ]
    }
   ],
   "source": [
    "##파이썬 모듈 이해\n",
    "import time #파이썬 내장 모듈time을 import키워드를 통해 코드로 임포트\n",
    "\n",
    "print('5초간 프로그램을 정지합니다.')\n",
    "time.sleep(5)\n",
    "print('5초가 지나갔습니다.') #time모듈이 제공하는 sleep()을 호출하려면 time, sleep()과 같이 함수 이름 앞에 모듈이름을 명시해야함.\n",
    "\n",
    "#모듈: 이미 만들어져있는 함수들을 활용하면 보다 효율적이고 빠르게 개발할 수 있는데 이와 안전성이 검증된 함수들을 성격에 맞게 하나의 파이썬 파일에 묶어 만들어놓은 것을 말함\n",
    "#모듈을 임포트한다: 외부 모듈에 있는 함수들을 활용하려면 이 모듈을 먼저 우리 코드로 가져와서 자유롭게 사용할 수 있도록 해야하는데 파이썬에서 이런일을 말함\n",
    "\n",
    "#만든 유용한 함수들을 다른 사람들이 사용할 수 있도록 파이썬 모듈로 만들 수 있다.\n",
    "#파이썬 모듈을 만드는 방법: 다음과 같은 두 개의 함수를 mylib.py라는 이름으로 저장함."
   ]
  },
  {
   "cell_type": "code",
   "execution_count": 6,
   "metadata": {},
   "outputs": [],
   "source": [
    "#mylib.py라는 이름으로 저장하기..\n",
    "def add_txt(t1,t2):\n",
    "    return t1+':'+t2\n",
    "\n",
    "def reverse(x,y,z):\n",
    "    return z,y,x"
   ]
  },
  {
   "cell_type": "code",
   "execution_count": 9,
   "metadata": {},
   "outputs": [
    {
     "ename": "ModuleNotFoundError",
     "evalue": "No module named 'mylib'",
     "output_type": "error",
     "traceback": [
      "\u001b[1;31m---------------------------------------------------------------------------\u001b[0m",
      "\u001b[1;31mModuleNotFoundError\u001b[0m                       Traceback (most recent call last)",
      "\u001b[1;32m<ipython-input-9-26513bb38ae6>\u001b[0m in \u001b[0;36m<module>\u001b[1;34m\u001b[0m\n\u001b[1;32m----> 1\u001b[1;33m \u001b[1;32mimport\u001b[0m \u001b[0mmylib\u001b[0m\u001b[1;33m.\u001b[0m\u001b[0mpy\u001b[0m\u001b[1;33m\u001b[0m\u001b[1;33m\u001b[0m\u001b[0m\n\u001b[0m\u001b[0;32m      2\u001b[0m \u001b[1;33m\u001b[0m\u001b[0m\n\u001b[0;32m      3\u001b[0m \u001b[0mret1\u001b[0m\u001b[1;33m=\u001b[0m\u001b[0mmylib\u001b[0m\u001b[1;33m.\u001b[0m\u001b[0madd_txt\u001b[0m\u001b[1;33m(\u001b[0m\u001b[1;34m'love'\u001b[0m\u001b[1;33m,\u001b[0m\u001b[1;34m'canada'\u001b[0m\u001b[1;33m)\u001b[0m\u001b[1;33m\u001b[0m\u001b[1;33m\u001b[0m\u001b[0m\n\u001b[0;32m      4\u001b[0m \u001b[0mret2\u001b[0m\u001b[1;33m=\u001b[0m\u001b[0mmylib\u001b[0m\u001b[1;33m.\u001b[0m\u001b[0mreverse\u001b[0m\u001b[1;33m(\u001b[0m\u001b[1;36m1\u001b[0m\u001b[1;33m,\u001b[0m\u001b[1;36m2\u001b[0m\u001b[1;33m,\u001b[0m\u001b[1;36m3\u001b[0m\u001b[1;33m)\u001b[0m\u001b[1;33m\u001b[0m\u001b[1;33m\u001b[0m\u001b[0m\n\u001b[0;32m      5\u001b[0m \u001b[0mprint\u001b[0m\u001b[1;33m(\u001b[0m\u001b[0mret1\u001b[0m\u001b[1;33m)\u001b[0m\u001b[1;33m\u001b[0m\u001b[1;33m\u001b[0m\u001b[0m\n",
      "\u001b[1;31mModuleNotFoundError\u001b[0m: No module named 'mylib'"
     ]
    }
   ],
   "source": [
    "import mylib.py\n",
    "\n",
    "ret1=mylib.add_txt('love','canada')\n",
    "ret2=mylib.reverse(1,2,3)\n",
    "print(ret1)\n",
    "print(ret2)"
   ]
  }
 ],
 "metadata": {
  "kernelspec": {
   "display_name": "Python 3",
   "language": "python",
   "name": "python3"
  },
  "language_info": {
   "codemirror_mode": {
    "name": "ipython",
    "version": 3
   },
   "file_extension": ".py",
   "mimetype": "text/x-python",
   "name": "python",
   "nbconvert_exporter": "python",
   "pygments_lexer": "ipython3",
   "version": "3.7.6"
  }
 },
 "nbformat": 4,
 "nbformat_minor": 4
}
